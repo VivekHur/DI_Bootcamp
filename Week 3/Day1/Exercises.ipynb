{
 "cells": [
  {
   "cell_type": "code",
   "execution_count": 3,
   "metadata": {},
   "outputs": [
    {
     "name": "stdout",
     "output_type": "stream",
     "text": [
      "{'Rick', 'Morty'}\n"
     ]
    }
   ],
   "source": [
    "my_set = set()\n",
    "my_set.add(\"Rick\")\n",
    "\n",
    "my_set.add(\"Morty\")\n",
    "\n",
    "my_set.add(\"Rick\")\n",
    "print(my_set)"
   ]
  },
  {
   "cell_type": "code",
   "execution_count": 4,
   "metadata": {},
   "outputs": [
    {
     "name": "stdout",
     "output_type": "stream",
     "text": [
      "I once went to Tel Aviv\n",
      "I once went to San Francisco\n",
      "I once went to Paris\n",
      "I once went to Barcelona\n"
     ]
    }
   ],
   "source": [
    "cities = [\"Tel Aviv\", \"San Francisco\", \"Paris\", \"Barcelona\"]\n",
    "\n",
    "for city in cities:\n",
    "    print(\"I once went to\", city)"
   ]
  },
  {
   "cell_type": "code",
   "execution_count": 5,
   "metadata": {},
   "outputs": [
    {
     "name": "stdout",
     "output_type": "stream",
     "text": [
      "4\n",
      "5\n",
      "6\n",
      "7\n",
      "8\n",
      "9\n",
      "10\n",
      "11\n",
      "12\n",
      "13\n",
      "14\n",
      "15\n",
      "16\n",
      "17\n",
      "18\n"
     ]
    }
   ],
   "source": [
    "numbers = range(4, 19)\n",
    "\n",
    "for number in numbers:\n",
    "  print(number)"
   ]
  },
  {
   "cell_type": "code",
   "execution_count": 11,
   "metadata": {},
   "outputs": [
    {
     "name": "stdout",
     "output_type": "stream",
     "text": [
      "dict_items([('name', 'Rick'), ('lname', 'Sanchez')])\n",
      "Rufus\n"
     ]
    }
   ],
   "source": [
    "newDictionary = { \n",
    "    'name':'Rick',\n",
    "    'lname':'Sanchez'}\n",
    "\n",
    "print(newDictionary.items())\n",
    "\n",
    "my_dog = {\n",
    "  'name': 'Rufus',\n",
    "  'age': 4,\n",
    "  'good_dog': True\n",
    "}\n",
    "\n",
    "print(my_dog['name'])\n"
   ]
  },
  {
   "cell_type": "code",
   "execution_count": 13,
   "metadata": {},
   "outputs": [
    {
     "name": "stdout",
     "output_type": "stream",
     "text": [
      "88\n"
     ]
    }
   ],
   "source": [
    "sample_dict = { \n",
    "   \"class\":{ \n",
    "      \"student\":{ \n",
    "         \"name\":\"Mike\",\n",
    "         \"marks\":{ \n",
    "            \"physics\":70,\n",
    "            \"history\":80\n",
    "         }\n",
    "      }\n",
    "   }\n",
    "}\n",
    "\n",
    "# Access the value of key \"history\"\n",
    "sample_dict[\"class\"][\"student\"][\"marks\"][\"history\"]=88\n",
    "history_value = sample_dict[\"class\"][\"student\"][\"marks\"][\"history\"]\n",
    "print(history_value)  # Output: 80"
   ]
  },
  {
   "cell_type": "code",
   "execution_count": 18,
   "metadata": {},
   "outputs": [
    {
     "name": "stdout",
     "output_type": "stream",
     "text": [
      "dict_items([('name', 'Atom'), ('Age', 36)])\n",
      "Atom\n",
      "dict_items([('name', 'Atom'), ('Age', 36), ('address', 'Mauritius')])\n",
      "dict_keys(['name', 'Age', 'address'])\n"
     ]
    }
   ],
   "source": [
    "newdict={\n",
    "    'name':\"Atom\",\n",
    "    'Age':36\n",
    "}\n",
    "\n",
    "print(newdict.items())\n",
    "print(newdict['name'])\n",
    "\n",
    "newdict['address'] ='Mauritius'\n",
    "\n",
    "print(newdict.items())\n",
    "\n",
    "print(newdict.keys())"
   ]
  },
  {
   "cell_type": "code",
   "execution_count": 22,
   "metadata": {},
   "outputs": [
    {
     "name": "stdout",
     "output_type": "stream",
     "text": [
      "name\n",
      "salary\n",
      "dict_values([25, 'New york'])\n"
     ]
    }
   ],
   "source": [
    "sample_dict = {\n",
    "  \"name\": \"Kelly\",\n",
    "  \"age\":25,\n",
    "  \"salary\": 8000,\n",
    "  \"city\": \"New york\"\n",
    "\n",
    "}\n",
    "keys_to_remove = [\"name\", \"salary\"]\n",
    "\n",
    "for key in keys_to_remove:\n",
    "    del sample_dict[key]\n",
    "    print(key)\n",
    "\n",
    "print(sample_dict.values())"
   ]
  },
  {
   "cell_type": "code",
   "execution_count": 24,
   "metadata": {},
   "outputs": [
    {
     "name": "stdout",
     "output_type": "stream",
     "text": [
      "the title is Harry Potter\n",
      "the author is JK Rowling\n"
     ]
    }
   ],
   "source": [
    "my_books = {\n",
    "  \"title\": \"Harry Potter\",\n",
    "  \"author\": \"JK Rowling\",\n",
    "}\n",
    "\n",
    "for x, y in my_books.items():\n",
    "    print(\"the \" + x + \" is \" + y)"
   ]
  },
  {
   "cell_type": "code",
   "execution_count": 27,
   "metadata": {},
   "outputs": [],
   "source": [
    "class Animal:\n",
    "    def __init__(self, name, species):\n",
    "        self.name = name  # Attribute\n",
    "        self.species = species\n",
    "\n",
    "    def make_sound(self):  # Method\n",
    "        print(\"Some generic sound\")\n",
    "\n",
    "newAnimal = Animal(\"potato\",\"yes\")\n"
   ]
  },
  {
   "cell_type": "code",
   "execution_count": 28,
   "metadata": {},
   "outputs": [
    {
     "name": "stdout",
     "output_type": "stream",
     "text": [
      "p.x is: 3\n",
      "p.y is: 4\n"
     ]
    }
   ],
   "source": [
    "class Point():\n",
    "    def __init__(self, x, y):\n",
    "        self.x = x\n",
    "        self.y = y\n",
    "\n",
    "## create an instance of the class\n",
    "p = Point(3,4)\n",
    "\n",
    "## access the attributes\n",
    "print(\"p.x is:\", p.x)\n",
    "print(\"p.y is:\", p.y)"
   ]
  },
  {
   "cell_type": "code",
   "execution_count": null,
   "metadata": {},
   "outputs": [],
   "source": [
    "class Vehicle:\n",
    "    def __init__(self,make,model,year,color) :\n",
    "        self.make=make\n",
    "        self"
   ]
  },
  {
   "cell_type": "code",
   "execution_count": null,
   "metadata": {},
   "outputs": [],
   "source": [
    "class Door:\n",
    "    def __init__(self,isOpened='true'):\n",
    "        self.isOpened = isOpened\n",
    "\n",
    "class BlockedDoor(Door):\n",
    "    def __init__(self, isOpened,):\n",
    "        super().__init__(isOpened)"
   ]
  },
  {
   "cell_type": "code",
   "execution_count": null,
   "metadata": {},
   "outputs": [],
   "source": [
    "class Pets():\n",
    "    def __init__(self, animals):\n",
    "        self.animals = animals\n",
    "\n",
    "    def walk(self):\n",
    "        for animal in self.animals:\n",
    "            print(animal.walk())\n",
    "\n",
    "class Cat():\n",
    "    is_lazy = True\n",
    "\n",
    "    def __init__(self, name, age):\n",
    "        self.name = name\n",
    "        self.age = age\n",
    "\n",
    "    def walk(self):\n",
    "        return f'{self.name} is just walking around'\n",
    "\n",
    "class Bengal(Cat):\n",
    "    def sing(self, sounds):\n",
    "        return f'{sounds}'\n",
    "\n",
    "class Chartreux(Cat):\n",
    "    def sing(self, sounds):\n",
    "        return f'{sounds}'\n",
    "\n",
    "\n",
    "class Siamese(Cat):\n",
    "    def __init__(self, name, age):\n",
    "        super().__init__(name, age)"
   ]
  }
 ],
 "metadata": {
  "kernelspec": {
   "display_name": "Python 3.12.3 64-bit",
   "language": "python",
   "name": "python3"
  },
  "language_info": {
   "codemirror_mode": {
    "name": "ipython",
    "version": 3
   },
   "file_extension": ".py",
   "mimetype": "text/x-python",
   "name": "python",
   "nbconvert_exporter": "python",
   "pygments_lexer": "ipython3",
   "version": "3.12.3"
  },
  "orig_nbformat": 4,
  "vscode": {
   "interpreter": {
    "hash": "4073b3682c3108d989617fce3293fa858e805d7c14b1b85905af237dbf378f4f"
   }
  }
 },
 "nbformat": 4,
 "nbformat_minor": 2
}
